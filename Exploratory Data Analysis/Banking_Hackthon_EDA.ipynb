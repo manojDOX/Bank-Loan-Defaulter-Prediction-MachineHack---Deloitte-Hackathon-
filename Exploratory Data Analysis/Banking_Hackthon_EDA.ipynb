{
  "nbformat": 4,
  "nbformat_minor": 0,
  "metadata": {
    "colab": {
      "provenance": [],
      "authorship_tag": "ABX9TyNi6t2U/npnj4A5SX2Hr7vi",
      "include_colab_link": true
    },
    "kernelspec": {
      "name": "python3",
      "display_name": "Python 3"
    },
    "language_info": {
      "name": "python"
    }
  },
  "cells": [
    {
      "cell_type": "markdown",
      "metadata": {
        "id": "view-in-github",
        "colab_type": "text"
      },
      "source": [
        "<a href=\"https://colab.research.google.com/github/manojDOX/Bank-Loan-Defaulter-Prediction-MachineHack---Deloitte-Hackathon-/blob/main/Exploratory%20Data%20Analysis/Banking_Hackthon_EDA.ipynb\" target=\"_parent\"><img src=\"https://colab.research.google.com/assets/colab-badge.svg\" alt=\"Open In Colab\"/></a>"
      ]
    },
    {
      "cell_type": "code",
      "execution_count": 4,
      "metadata": {
        "id": "srPVDjn6m3TM",
        "colab": {
          "base_uri": "https://localhost:8080/"
        },
        "outputId": "8ee93f74-d829-4747-f6b9-38d78547f30a"
      },
      "outputs": [
        {
          "output_type": "stream",
          "name": "stderr",
          "text": [
            "/tmp/ipython-input-4148368104.py:10: DeprecationWarning: load_dataset is deprecated and will be removed in a future version.\n",
            "  df = kagglehub.load_dataset(\n"
          ]
        },
        {
          "output_type": "stream",
          "name": "stdout",
          "text": [
            "First 5 records:          ID  Loan Amount  Funded Amount  Funded Amount Investor  Term  \\\n",
            "0  65087372        10000          32236             12329.36286    59   \n",
            "1   1450153         3609          11940             12191.99692    59   \n",
            "2   1969101        28276           9311             21603.22455    59   \n",
            "3   6651430        11170           6954             17877.15585    59   \n",
            "4  14354669        16890          13226             13539.92667    59   \n",
            "\n",
            "  Batch Enrolled  Interest Rate Grade Sub Grade Employment Duration  ...  \\\n",
            "0     BAT2522922      11.135007     B        C4            MORTGAGE  ...   \n",
            "1     BAT1586599      12.237563     C        D3                RENT  ...   \n",
            "2     BAT2136391      12.545884     F        D4            MORTGAGE  ...   \n",
            "3     BAT2428731      16.731201     C        C3            MORTGAGE  ...   \n",
            "4     BAT5341619      15.008300     C        D4            MORTGAGE  ...   \n",
            "\n",
            "    Recoveries Collection Recovery Fee Collection 12 months Medical  \\\n",
            "0     2.498291                0.793724                            0   \n",
            "1     2.377215                0.974821                            0   \n",
            "2     4.316277                1.020075                            0   \n",
            "3     0.107020                0.749971                            0   \n",
            "4  1294.818751                0.368953                            0   \n",
            "\n",
            "  Application Type  Last week Pay  Accounts Delinquent  \\\n",
            "0       INDIVIDUAL             49                    0   \n",
            "1       INDIVIDUAL            109                    0   \n",
            "2       INDIVIDUAL             66                    0   \n",
            "3       INDIVIDUAL             39                    0   \n",
            "4       INDIVIDUAL             18                    0   \n",
            "\n",
            "   Total Collection Amount  Total Current Balance  \\\n",
            "0                       31                 311301   \n",
            "1                       53                 182610   \n",
            "2                       34                  89801   \n",
            "3                       40                   9189   \n",
            "4                      430                 126029   \n",
            "\n",
            "   Total Revolving Credit Limit  Loan Status  \n",
            "0                          6619            0  \n",
            "1                         20885            0  \n",
            "2                         26155            0  \n",
            "3                         60214            0  \n",
            "4                         22579            0  \n",
            "\n",
            "[5 rows x 35 columns]\n"
          ]
        }
      ],
      "source": [
        "# Install dependencies as needed:\n",
        "# pip install kagglehub[pandas-datasets]\n",
        "import kagglehub\n",
        "from kagglehub import KaggleDatasetAdapter\n",
        "\n",
        "# Set the path to the file you'd like to load\n",
        "file_path = \"train.csv\"\n",
        "\n",
        "# Load the latest version\n",
        "df = kagglehub.load_dataset(\n",
        "  KaggleDatasetAdapter.PANDAS,\n",
        "  \"ankitkalauni/bank-loan-defaulter-prediction-hackathon\",\n",
        "  file_path,\n",
        ")\n",
        "\n",
        "print(\"First 5 records:\", df.head())"
      ]
    },
    {
      "cell_type": "code",
      "source": [],
      "metadata": {
        "id": "6nfo4iD-ox8_"
      },
      "execution_count": null,
      "outputs": []
    }
  ]
}